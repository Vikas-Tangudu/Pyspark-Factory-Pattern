{
 "cells": [
  {
   "cell_type": "code",
   "execution_count": 0,
   "metadata": {
    "application/vnd.databricks.v1+cell": {
     "cellMetadata": {
      "byteLimit": 2048000,
      "rowLimit": 10000
     },
     "inputWidgets": {},
     "nuid": "4ec41cc2-e29e-4237-9469-d4a5b061c79c",
     "showTitle": false,
     "title": ""
    }
   },
   "outputs": [],
   "source": [
    "%python\n",
    "class DataSource:\n",
    "\n",
    "  def __init__(self, path):\n",
    "    self.path = path\n",
    "\n",
    "  def get_data_frame(self):\n",
    "    \n",
    "    raise ValueError(\"Not Implemented\")\n",
    "\n",
    "\n",
    "class CSVDataSource(DataSource):\n",
    "\n",
    "    def get_data_frame(self):\n",
    "\n",
    "        return (\n",
    "            spark.\n",
    "            read.\n",
    "            format(\"csv\").\n",
    "            option(\"header\", True).\n",
    "            load(self.path)\n",
    "        )\n",
    "\n",
    "class ParquetDataSource(DataSource):\n",
    "\n",
    "    def get_data_frame(self):\n",
    "\n",
    "        return (\n",
    "            spark.\n",
    "            read.\n",
    "            format(\"parquet\").\n",
    "            load(self.path)\n",
    "        )\n",
    "\n",
    "class DeltaDataSource(DataSource):\n",
    "\n",
    "    def get_data_frame(self):\n",
    "\n",
    "        return (\n",
    "            spark.\n",
    "            read.\n",
    "            format(\"delta\").\n",
    "            load(self.path)\n",
    "        )\n",
    "\n",
    "def get_data_source(data_type, file_path):\n",
    "\n",
    "    if data_type == 'csv':\n",
    "        return CSVDataSource(file_path)\n",
    "    if data_type == 'parquet':\n",
    "        return ParquetDataSource(file_path)\n",
    "    if data_type == 'delta':\n",
    "        return DeltaDataSource(file_path)\n",
    "    \n"
   ]
  }
 ],
 "metadata": {
  "application/vnd.databricks.v1+notebook": {
   "dashboards": [],
   "environmentMetadata": null,
   "language": "python",
   "notebookMetadata": {
    "pythonIndentUnit": 4
   },
   "notebookName": "Reader_Factory",
   "widgets": {}
  }
 },
 "nbformat": 4,
 "nbformat_minor": 0
}
