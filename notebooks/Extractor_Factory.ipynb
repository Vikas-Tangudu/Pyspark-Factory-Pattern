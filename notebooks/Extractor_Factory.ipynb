{
 "cells": [
  {
   "cell_type": "code",
   "execution_count": 0,
   "metadata": {
    "application/vnd.databricks.v1+cell": {
     "cellMetadata": {
      "byteLimit": 2048000,
      "rowLimit": 10000
     },
     "inputWidgets": {},
     "nuid": "e2d30a51-a916-4449-8f93-cd7bd733b637",
     "showTitle": false,
     "title": ""
    }
   },
   "outputs": [],
   "source": [
    "%run \"/Users/vikast16820@gmail.com/Reader_Factory\""
   ]
  },
  {
   "cell_type": "code",
   "execution_count": 0,
   "metadata": {
    "application/vnd.databricks.v1+cell": {
     "cellMetadata": {
      "byteLimit": 2048000,
      "rowLimit": 10000
     },
     "inputWidgets": {},
     "nuid": "d17c6fd9-a93f-4530-bc0b-729d4a628a6b",
     "showTitle": false,
     "title": ""
    }
   },
   "outputs": [],
   "source": [
    "class Extractor:\n",
    "\n",
    "    def __init__(self): # want to pass file type and file names here.\n",
    "        pass\n",
    "\n",
    "    def extract(self):\n",
    "        pass\n",
    "\n",
    "\n",
    "class AirpodAfterIphoneExtractor(Extractor):\n",
    "\n",
    "    def extract(self): \n",
    "\n",
    "        TransInputDf = get_data_source(\n",
    "            'csv', \n",
    "            'dbfs:/FileStore/tables/Apple/Transaction_Updated.csv'\n",
    "            ).get_data_frame()\n",
    "        \n",
    "        CustomerInputDf = get_data_source(\n",
    "            'delta', \n",
    "            'dbfs:/user/hive/warehouse/customer_updated_csv'\n",
    "            ).get_data_frame()\n",
    "\n",
    "        InputDfs = {\n",
    "            \"TransInputDf\" : TransInputDf,\n",
    "            \"CustomerInputDf\": CustomerInputDf\n",
    "        }\n",
    "\n",
    "        return InputDfs\n",
    "    \n",
    "\n",
    "class Top3ProductsByRevenueExtractor(Extractor):\n",
    "\n",
    "    def extract(self): \n",
    "\n",
    "        TransInputDf = get_data_source(\n",
    "            'csv', \n",
    "            'dbfs:/FileStore/tables/Apple/Transaction_Updated.csv'\n",
    "            ).get_data_frame()\n",
    "        \n",
    "        ProductsInputDf = get_data_source(\n",
    "            'csv', \n",
    "            'dbfs:/FileStore/tables/Apple/Products_Updated.csv'\n",
    "            ).get_data_frame()\n",
    "\n",
    "        InputDfs = {\n",
    "            \"TransInputDf\" : TransInputDf,\n",
    "            \"ProductsInputDf\" : ProductsInputDf\n",
    "        }\n",
    "        \n",
    "        return InputDfs"
   ]
  }
 ],
 "metadata": {
  "application/vnd.databricks.v1+notebook": {
   "dashboards": [],
   "environmentMetadata": null,
   "language": "python",
   "notebookMetadata": {
    "pythonIndentUnit": 4
   },
   "notebookName": "Extractor_Factory",
   "widgets": {}
  }
 },
 "nbformat": 4,
 "nbformat_minor": 0
}
