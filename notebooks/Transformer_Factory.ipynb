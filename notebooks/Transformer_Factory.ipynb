{
 "cells": [
  {
   "cell_type": "code",
   "execution_count": null,
   "metadata": {
    "application/vnd.databricks.v1+cell": {
     "cellMetadata": {
      "byteLimit": 2048000,
      "rowLimit": 10000
     },
     "inputWidgets": {},
     "nuid": "3ecbd04d-89f6-4f44-a4cf-e77c9885195e",
     "showTitle": false,
     "title": ""
    }
   },
   "outputs": [],
   "source": [
    "from pyspark.sql.window import Window\n",
    "from pyspark.sql.functions import lead, col, broadcast, collect_set,array_contains,sum, split\n",
    "from pyspark.sql.types import IntegerType\n",
    "\n",
    "class Transformer:\n",
    "\n",
    "    def __init__(self,InputDfs):\n",
    "        self.InputDfs = InputDfs\n",
    "\n",
    "    def transform(self):\n",
    "        pass\n",
    "\n",
    "class AirpodAfterIphoneTransform(Transformer):\n",
    "\n",
    "    def transform(self):\n",
    "\n",
    "        TransInputDf = self.InputDfs.get('TransInputDf')\n",
    "        CustomerInputDf = self.InputDfs.get('CustomerInputDf')\n",
    "\n",
    "        WindowSpec = Window.partitionBy(\"customer_id\").orderBy(\"transaction_date\")\n",
    "\n",
    "        TransformedDf = TransInputDf.withColumn(\n",
    "            \"next_product_name\",\n",
    "            lead(\"product_name\").over(WindowSpec))\n",
    "\n",
    "        FilteredDf = TransformedDf.filter(\n",
    "            (col(\"product_name\") == 'iPhone') &\n",
    "            (col(\"next_product_name\") == 'AirPods'))\n",
    "        \n",
    "        JoinDf = CustomerInputDf.join(broadcast(FilteredDf), \n",
    "            \"customer_id\", \"inner\")\n",
    "        \n",
    "\n",
    "        JoinDf.orderBy(\"product_name\").show()\n",
    "\n",
    "        return JoinDf\n",
    "    \n",
    "class AirpodAndIphoneTransform(Transformer):\n",
    "\n",
    "    def transform(self):\n",
    "\n",
    "        TransInputDf = self.InputDfs.get('TransInputDf')\n",
    "        CustomerInputDf = self.InputDfs.get('CustomerInputDf')\n",
    "\n",
    "        groupedDf = TransInputDf.groupBy(\"customer_id\").agg(collect_set(\"product_name\").alias(\"products\"))\n",
    "\n",
    "        FilteredDf = groupedDf.filter(\n",
    "            (array_contains(col(\"products\"),\"iPhone\")) &\n",
    "            (array_contains(col(\"products\"),\"AirPods\"))\n",
    "            ) \n",
    "\n",
    "        JoinDf = CustomerInputDf.join(broadcast(FilteredDf), \n",
    "            \"customer_id\", \"inner\")\n",
    "\n",
    "        JoinDf.orderBy(\"customer_id\").show()\n",
    "\n",
    "        return JoinDf\n",
    "    \n",
    "\n",
    "class Top3ProductsByRevenueTransform(Transformer):\n",
    "\n",
    "    def transform(self):\n",
    "\n",
    "        TransInputDf = self.InputDfs.get('TransInputDf')\n",
    "        ProductsInputDf = self.InputDfs.get('ProductsInputDf')\n",
    "\n",
    "        ProductsInputDf = ProductsInputDf.withColumn(\"price\",ProductsInputDf.price.cast(IntegerType()))\n",
    "        ProductsInputDf = ProductsInputDf.withColumn(\"product_name\",split(ProductsInputDf['product_name'], ' ').getItem(0))\n",
    "\n",
    "\n",
    "        JoinDf = TransInputDf.join(broadcast(ProductsInputDf), \n",
    "            \"product_name\", \"inner\")\n",
    "        # JoinDf.show()\n",
    "        \n",
    "        groupedDf = JoinDf.groupBy(\"category\").agg(sum(\"price\").alias(\"total_price\"))\n",
    "        \n",
    "        FilteredDf = groupedDf.orderBy(\"total_price\").limit(3)\n",
    "\n",
    "        FilteredDf.show()\n",
    "\n",
    "        return FilteredDf\n"
   ]
  },
  {
   "cell_type": "markdown",
   "metadata": {
    "application/vnd.databricks.v1+cell": {
     "cellMetadata": {
      "byteLimit": 2048000,
      "rowLimit": 10000
     },
     "inputWidgets": {},
     "nuid": "23bf260c-143e-4ed1-aba4-8bca0ae77031",
     "showTitle": false,
     "title": ""
    }
   },
   "source": []
  }
 ],
 "metadata": {
  "application/vnd.databricks.v1+notebook": {
   "dashboards": [],
   "environmentMetadata": null,
   "language": "python",
   "notebookMetadata": {
    "pythonIndentUnit": 4
   },
   "notebookName": "Transformer_Factory",
   "widgets": {}
  },
  "language_info": {
   "name": "python"
  }
 },
 "nbformat": 4,
 "nbformat_minor": 0
}
