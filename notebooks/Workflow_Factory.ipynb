{
 "cells": [
  {
   "cell_type": "code",
   "execution_count": 0,
   "metadata": {
    "application/vnd.databricks.v1+cell": {
     "cellMetadata": {
      "byteLimit": 2048000,
      "rowLimit": 10000
     },
     "inputWidgets": {},
     "nuid": "5bc39bfb-e5d8-4b8b-a164-ec8cd8c43e2d",
     "showTitle": false,
     "title": ""
    }
   },
   "outputs": [],
   "source": [
    "%run \"/Users/vikast16820@gmail.com/Extractor_Factory\""
   ]
  },
  {
   "cell_type": "code",
   "execution_count": 0,
   "metadata": {
    "application/vnd.databricks.v1+cell": {
     "cellMetadata": {
      "byteLimit": 2048000,
      "rowLimit": 10000
     },
     "inputWidgets": {},
     "nuid": "a5c5b8eb-2a92-4922-b371-7cb87d5a9ada",
     "showTitle": false,
     "title": ""
    }
   },
   "outputs": [],
   "source": [
    "%run \"/Users/vikast16820@gmail.com/Transformer_Factory\""
   ]
  },
  {
   "cell_type": "code",
   "execution_count": 0,
   "metadata": {
    "application/vnd.databricks.v1+cell": {
     "cellMetadata": {
      "byteLimit": 2048000,
      "rowLimit": 10000
     },
     "inputWidgets": {},
     "nuid": "9cdc921d-c8f9-492f-99c3-0e9e37a37156",
     "showTitle": false,
     "title": ""
    }
   },
   "outputs": [],
   "source": [
    "%run \"/Users/vikast16820@gmail.com/Loader_Factory\""
   ]
  },
  {
   "cell_type": "code",
   "execution_count": 0,
   "metadata": {
    "application/vnd.databricks.v1+cell": {
     "cellMetadata": {
      "byteLimit": 2048000,
      "rowLimit": 10000
     },
     "inputWidgets": {},
     "nuid": "f4a45094-7c9f-4c78-8727-8bced8670c49",
     "showTitle": false,
     "title": ""
    }
   },
   "outputs": [],
   "source": [
    "class Workflow:\n",
    "    def __init_(self):\n",
    "\n",
    "        pass\n",
    "\n",
    "\n",
    "    def runner(self):\n",
    "        pass\n",
    "\n",
    "\n",
    "class AirpodAfterIphoneWorkflow(Workflow):\n",
    "    def __init_(self):\n",
    "\n",
    "        pass\n",
    "\n",
    "# ETL PIPELINE\n",
    "    def runner(self):\n",
    "\n",
    "        InputDfs = AirpodAfterIphoneExtractor().extract()\n",
    "\n",
    "        AirpodAfterIphone = AirpodAfterIphoneTransform(InputDfs).transform()\n",
    "\n",
    "        AirpodAfterIphoneLoader(AirpodAfterIphone).sink()\n",
    "\n",
    "\n",
    "class AirpodAndIphoneWorkflow(Workflow):\n",
    "    def __init_(self):\n",
    "\n",
    "        pass\n",
    "\n",
    "# ETL PIPELINE\n",
    "    def runner(self):\n",
    "\n",
    "        InputDfs = AirpodAfterIphoneExtractor().extract()\n",
    "\n",
    "        AirpodAndIphone = AirpodAndIphoneTransform(InputDfs).transform()\n",
    "\n",
    "        AirpodAndIphoneLoader(AirpodAndIphone).sink()\n",
    "\n",
    "\n",
    "class Top3ProductsByRevenueWorkflow(Workflow):\n",
    "    def __init_(self):\n",
    "\n",
    "        pass\n",
    "\n",
    "# ETL PIPELINE\n",
    "    def runner(self):\n",
    "\n",
    "        InputDfs = Top3ProductsByRevenueExtractor().extract()\n",
    "\n",
    "        Top3ProductsByRevenue = Top3ProductsByRevenueTransform(InputDfs).transform()\n",
    "\n",
    "        Top3ProductsByRevenueLoader(Top3ProductsByRevenue).sink()"
   ]
  }
 ],
 "metadata": {
  "application/vnd.databricks.v1+notebook": {
   "dashboards": [],
   "environmentMetadata": null,
   "language": "python",
   "notebookMetadata": {
    "pythonIndentUnit": 4
   },
   "notebookName": "Workflow_Factory",
   "widgets": {}
  }
 },
 "nbformat": 4,
 "nbformat_minor": 0
}
