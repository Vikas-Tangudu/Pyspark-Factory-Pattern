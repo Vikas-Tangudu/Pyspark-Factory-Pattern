{
 "cells": [
  {
   "cell_type": "code",
   "execution_count": 0,
   "metadata": {
    "application/vnd.databricks.v1+cell": {
     "cellMetadata": {
      "byteLimit": 2048000,
      "rowLimit": 10000
     },
     "inputWidgets": {},
     "nuid": "387f5d6c-dc99-4a42-abc4-353b5939100c",
     "showTitle": false,
     "title": ""
    }
   },
   "outputs": [],
   "source": [
    "%run \"/Users/vikast16820@gmail.com/Workflow_Factory\""
   ]
  },
  {
   "cell_type": "code",
   "execution_count": 0,
   "metadata": {
    "application/vnd.databricks.v1+cell": {
     "cellMetadata": {
      "byteLimit": 2048000,
      "rowLimit": 10000
     },
     "inputWidgets": {},
     "nuid": "168eb3ae-c39e-485d-a2a8-36d77c063595",
     "showTitle": false,
     "title": ""
    }
   },
   "outputs": [],
   "source": [
    "AirpodAfterIphoneWorkflow = AirpodAfterIphoneWorkflow().runner()"
   ]
  },
  {
   "cell_type": "code",
   "execution_count": 0,
   "metadata": {
    "application/vnd.databricks.v1+cell": {
     "cellMetadata": {
      "byteLimit": 2048000,
      "rowLimit": 10000
     },
     "inputWidgets": {},
     "nuid": "d1edb502-848a-4586-8b0e-eed1c57622ea",
     "showTitle": false,
     "title": ""
    }
   },
   "outputs": [],
   "source": [
    "AirpodAndIphoneWorkflow = AirpodAndIphoneWorkflow().runner()"
   ]
  },
  {
   "cell_type": "code",
   "execution_count": 0,
   "metadata": {
    "application/vnd.databricks.v1+cell": {
     "cellMetadata": {
      "byteLimit": 2048000,
      "rowLimit": 10000
     },
     "inputWidgets": {},
     "nuid": "7fdfa694-bb17-4734-ba53-7c72a61de950",
     "showTitle": false,
     "title": ""
    }
   },
   "outputs": [
    {
     "output_type": "stream",
     "name": "stdout",
     "output_type": "stream",
     "text": [
      "+----------+-----------+\n|  category|total_price|\n+----------+-----------+\n| Accessory|       1000|\n|Smartphone|       1800|\n|    Laptop|       2000|\n+----------+-----------+\n\nData pushed to path : dbfs:/FileStore/tables/Apple_sink/Top3ProductsByRevenue\n"
     ]
    }
   ],
   "source": [
    "Top3ProductsByRevenue =Top3ProductsByRevenueWorkflow().runner()"
   ]
  },
  {
   "cell_type": "code",
   "execution_count": 0,
   "metadata": {
    "application/vnd.databricks.v1+cell": {
     "cellMetadata": {
      "byteLimit": 2048000,
      "rowLimit": 10000
     },
     "inputWidgets": {},
     "nuid": "dfe9350b-e460-4b70-a79a-9ea3ef8c739f",
     "showTitle": false,
     "title": ""
    }
   },
   "outputs": [],
   "source": [
    "# %fs rm '/user/hive/warehouse/customer_updated_csv'\n",
    "\n",
    "# dbutils.fs.rm(\"/FileStore/tables/Apple_sink/\", True)"
   ]
  }
 ],
 "metadata": {
  "application/vnd.databricks.v1+notebook": {
   "dashboards": [],
   "environmentMetadata": null,
   "language": "python",
   "notebookMetadata": {
    "mostRecentlyExecutedCommandWithImplicitDF": {
     "commandId": -1,
     "dataframes": [
      "_sqldf"
     ]
    },
    "pythonIndentUnit": 4
   },
   "notebookName": "Apple Data Anlaysis - Factory Spark code",
   "widgets": {}
  }
 },
 "nbformat": 4,
 "nbformat_minor": 0
}
