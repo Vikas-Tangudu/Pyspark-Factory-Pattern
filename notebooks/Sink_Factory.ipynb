{
 "cells": [
  {
   "cell_type": "code",
   "execution_count": 0,
   "metadata": {
    "application/vnd.databricks.v1+cell": {
     "cellMetadata": {
      "byteLimit": 2048000,
      "rowLimit": 10000
     },
     "inputWidgets": {},
     "nuid": "4e7caa9c-713d-483e-ac9d-9c39326c7248",
     "showTitle": false,
     "title": ""
    }
   },
   "outputs": [],
   "source": [
    "class DataSink:\n",
    "\n",
    "  def __init__(self, df, path, mode, params):\n",
    "    self.df = df\n",
    "    self.path = path\n",
    "    self.mode = mode\n",
    "    self.params = params\n",
    "\n",
    "  def sink_data_frame(self):\n",
    "    \n",
    "    raise ValueError(\"Not Implemented\")\n",
    "\n",
    "\n",
    "class LoadToDBFS(DataSink):\n",
    "\n",
    "    def sink_data_frame(self):\n",
    "\n",
    "        self.df.write.mode(self.mode).save(self.path)\n",
    "\n",
    "        print(f\"Data pushed to path : {self.path}\")\n",
    "\n",
    "\n",
    "class LoadToDBFSWithPartition(DataSink):\n",
    "\n",
    "    def sink_data_frame(self):\n",
    "\n",
    "        PartitionByColumns = self.params.get(\"PartitionByColumn\")\n",
    "\n",
    "        self.df.write.mode(self.mode).partitionBy(*PartitionByColumns).save(self.path)\n",
    "\n",
    "        print(f\"Data pushed to path : {self.path}\")\n",
    "\n",
    "class LoadToDeltaTable(DataSink):\n",
    "\n",
    "    def sink_data_frame(self):\n",
    "\n",
    "        PartitionByColumns = self.params.get(\"PartitionByColumn\")\n",
    "\n",
    "        self.df.write.mode(self.mode).partitionBy(*PartitionByColumns).saveAsTable(self.path)\n",
    "\n",
    "        print(f\"Data saved to Delta Table : {self.path}\")\n",
    "\n",
    "def get_data_sink(df, sink_type, path, mode, params):\n",
    "\n",
    "    if sink_type == 'dbfs':\n",
    "        return LoadToDBFS(df, path, mode, params)\n",
    "    if sink_type == 'dbfsWithPartition':\n",
    "        return LoadToDBFSWithPartition(df,path, mode, params)\n",
    "    if sink_type == 'DeltaTableWithPartition':\n",
    "        return LoadToDeltaTable(df,path, mode, params)\n",
    "    else:\n",
    "        return ValueError(f\"Not implemented for {sink_type}\")"
   ]
  }
 ],
 "metadata": {
  "application/vnd.databricks.v1+notebook": {
   "dashboards": [],
   "environmentMetadata": null,
   "language": "python",
   "notebookMetadata": {
    "pythonIndentUnit": 4
   },
   "notebookName": "Sink_Factory",
   "widgets": {}
  }
 },
 "nbformat": 4,
 "nbformat_minor": 0
}
