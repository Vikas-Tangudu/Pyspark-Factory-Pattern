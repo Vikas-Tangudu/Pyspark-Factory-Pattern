{
 "cells": [
  {
   "cell_type": "code",
   "execution_count": 0,
   "metadata": {
    "application/vnd.databricks.v1+cell": {
     "cellMetadata": {
      "byteLimit": 2048000,
      "rowLimit": 10000
     },
     "inputWidgets": {},
     "nuid": "f2578e84-1624-4e3f-be09-917c13a54144",
     "showTitle": false,
     "title": ""
    }
   },
   "outputs": [],
   "source": [
    "%run \"/Users/vikast16820@gmail.com/Sink_Factory\""
   ]
  },
  {
   "cell_type": "code",
   "execution_count": 0,
   "metadata": {
    "application/vnd.databricks.v1+cell": {
     "cellMetadata": {
      "byteLimit": 2048000,
      "rowLimit": 10000
     },
     "inputWidgets": {},
     "nuid": "d4dc1beb-4ed1-4be5-918d-d121cf612f35",
     "showTitle": false,
     "title": ""
    }
   },
   "outputs": [],
   "source": [
    "class Loader:\n",
    "    def __init__(self, df):\n",
    "        self.df= df\n",
    "\n",
    "    def sink(self):\n",
    "        pass\n",
    "\n",
    "class AirpodAfterIphoneLoader(Loader):\n",
    "\n",
    "    def sink(self):\n",
    "        get_data_sink(\n",
    "            df = self.df,\n",
    "            sink_type=\"dbfs\", \n",
    "            path = \"dbfs:/FileStore/tables/Apple_sink/AirpodsAfterIphone\", \n",
    "            mode = \"overwrite\", \n",
    "            params = {}\n",
    "            ).sink_data_frame()\n",
    "        \n",
    "class AirpodAndIphoneLoader(Loader):\n",
    "\n",
    "    def sink(self):\n",
    "        get_data_sink(\n",
    "            df = self.df,\n",
    "            sink_type=\"DeltaTableWithPartition\", \n",
    "            path = \"AirpodsAndIphone\", \n",
    "            mode = \"overwrite\", \n",
    "            params = {\"PartitionByColumn\":[\"location\"]}\n",
    "            ).sink_data_frame()\n",
    "        \n",
    "class Top3ProductsByRevenueLoader(Loader):\n",
    "\n",
    "    def sink(self):\n",
    "        get_data_sink(\n",
    "            df = self.df,\n",
    "            sink_type=\"dbfs\", \n",
    "            path = \"dbfs:/FileStore/tables/Apple_sink/Top3ProductsByRevenue\", \n",
    "            mode = \"overwrite\", \n",
    "            params = {}\n",
    "            ).sink_data_frame()\n",
    "\n"
   ]
  }
 ],
 "metadata": {
  "application/vnd.databricks.v1+notebook": {
   "dashboards": [],
   "environmentMetadata": null,
   "language": "python",
   "notebookMetadata": {
    "pythonIndentUnit": 4
   },
   "notebookName": "Loader_Factory",
   "widgets": {}
  }
 },
 "nbformat": 4,
 "nbformat_minor": 0
}
